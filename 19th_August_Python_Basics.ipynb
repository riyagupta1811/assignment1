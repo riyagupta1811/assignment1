{
 "cells": [
  {
   "cell_type": "code",
   "execution_count": null,
   "id": "12cdaa20-d4a1-46ec-b1b4-2454d9fc7ae2",
   "metadata": {},
   "outputs": [],
   "source": [
    "#Topic: Python Basics Variable"
   ]
  },
  {
   "cell_type": "code",
   "execution_count": null,
   "id": "8f8cf756-5908-4417-a177-99892745efe2",
   "metadata": {},
   "outputs": [],
   "source": [
    "#Question 1"
   ]
  },
  {
   "cell_type": "code",
   "execution_count": 4,
   "id": "9761891a-1fc2-431f-b8ea-33e65776a2c0",
   "metadata": {},
   "outputs": [
    {
     "name": "stdout",
     "output_type": "stream",
     "text": [
      "After swapping:\n",
      "x = 2\n",
      "y = 3\n"
     ]
    }
   ],
   "source": [
    "x = 3\n",
    "y = 2\n",
    "x = x + y\n",
    "y = x - y\n",
    "x = x - y\n",
    "print(\"After swapping:\")\n",
    "print(\"x =\",x)\n",
    "print(\"y =\",y)\n"
   ]
  },
  {
   "cell_type": "code",
   "execution_count": null,
   "id": "2e44387d-efd7-46ad-89f7-e7c8e53e3516",
   "metadata": {},
   "outputs": [],
   "source": [
    "#Question 2"
   ]
  },
  {
   "cell_type": "code",
   "execution_count": 8,
   "id": "22227414-8491-4d07-95c1-26d7bfad95bb",
   "metadata": {},
   "outputs": [
    {
     "name": "stdin",
     "output_type": "stream",
     "text": [
      "Enter the length:\n",
      " 2\n",
      "Enter the width\n",
      " 5\n"
     ]
    },
    {
     "name": "stdout",
     "output_type": "stream",
     "text": [
      "Area of rectangle = 10\n"
     ]
    }
   ],
   "source": [
    "length = int(input(\"Enter the length:\\n\"))\n",
    "width = int(input(\"Enter the width\\n\"))\n",
    "area_rect = length*width\n",
    "print(\"Area of rectangle =\",area_rect)"
   ]
  },
  {
   "cell_type": "code",
   "execution_count": null,
   "id": "37d747d3-26fe-4a29-bb83-ebaa5314a6b4",
   "metadata": {},
   "outputs": [],
   "source": [
    "#Question 3"
   ]
  },
  {
   "cell_type": "code",
   "execution_count": 11,
   "id": "f06a83f1-fef1-4f13-aa9a-a716abbdbc91",
   "metadata": {},
   "outputs": [
    {
     "name": "stdin",
     "output_type": "stream",
     "text": [
      "Enter the temperature in Celcius: 10\n"
     ]
    },
    {
     "name": "stdout",
     "output_type": "stream",
     "text": [
      "Temperature in Fahrenheit is : 50.0\n"
     ]
    }
   ],
   "source": [
    "temp_cel = int(input(\"Enter the temperature in Celcius:\"))\n",
    "temp_fah = (9/5 * temp_cel) + 32\n",
    "print(\"Temperature in Fahrenheit is :\",temp_fah)"
   ]
  },
  {
   "cell_type": "code",
   "execution_count": null,
   "id": "2fe79f24-8539-4b6b-b2b7-c93383dd0767",
   "metadata": {},
   "outputs": [],
   "source": [
    "#Topic: String Based Questions"
   ]
  },
  {
   "cell_type": "code",
   "execution_count": null,
   "id": "03651561-ba05-47d3-a804-fe3ffdca6469",
   "metadata": {},
   "outputs": [],
   "source": [
    "#Question 1"
   ]
  },
  {
   "cell_type": "code",
   "execution_count": 12,
   "id": "f8bb7881-d0df-45f1-ba59-1ce91f58798d",
   "metadata": {},
   "outputs": [
    {
     "name": "stdin",
     "output_type": "stream",
     "text": [
      "Enter a string:\n",
      " pwskills\n"
     ]
    },
    {
     "name": "stdout",
     "output_type": "stream",
     "text": [
      "Length of string: 8\n"
     ]
    }
   ],
   "source": [
    "string = input(\"Enter a string:\\n\")\n",
    "print(\"Length of string:\",len(string))"
   ]
  },
  {
   "cell_type": "code",
   "execution_count": null,
   "id": "671f9b81-9dcc-42c5-ac4e-f6b77108f9c1",
   "metadata": {},
   "outputs": [],
   "source": [
    "#Question 2"
   ]
  },
  {
   "cell_type": "code",
   "execution_count": 14,
   "id": "5ff8eea6-a4cb-406b-a640-a5412a294e47",
   "metadata": {},
   "outputs": [
    {
     "name": "stdin",
     "output_type": "stream",
     "text": [
      "Enter a string:\n",
      " Hello World\n"
     ]
    },
    {
     "name": "stdout",
     "output_type": "stream",
     "text": [
      "Number of vowels in a string are : 3\n"
     ]
    }
   ],
   "source": [
    "string = input(\"Enter a string:\\n\")\n",
    "vowel = 0\n",
    "for i in string:\n",
    "    if (i=='a' or i=='e' or i=='i' or i=='o' or i=='u' or i=='A' or i=='E' or i=='I' or i=='O' or i=='U'):\n",
    "        vowel = vowel+1\n",
    "print(\"Number of vowels in a string are :\",vowel)"
   ]
  },
  {
   "cell_type": "code",
   "execution_count": null,
   "id": "b6b01b7a-f9e9-42bf-82f5-d973495ef6a0",
   "metadata": {},
   "outputs": [],
   "source": [
    "#Question 3"
   ]
  },
  {
   "cell_type": "code",
   "execution_count": 19,
   "id": "218bcf2e-b89a-45de-a5e7-77885b8035ea",
   "metadata": {},
   "outputs": [
    {
     "name": "stdout",
     "output_type": "stream",
     "text": [
      "sllikswp\n"
     ]
    }
   ],
   "source": [
    "string = \"pwskills\"\n",
    "rev_str = string[::-1]\n",
    "print(rev_str)"
   ]
  },
  {
   "cell_type": "code",
   "execution_count": null,
   "id": "5aeb1f02-79e6-4a7e-b6ac-d2140ddef5d6",
   "metadata": {},
   "outputs": [],
   "source": [
    "#Question 4"
   ]
  },
  {
   "cell_type": "code",
   "execution_count": 18,
   "id": "cb3fa468-0a68-4c56-93c1-f2f2c0657a78",
   "metadata": {},
   "outputs": [
    {
     "name": "stdin",
     "output_type": "stream",
     "text": [
      "Enter a string: madam\n"
     ]
    },
    {
     "name": "stdout",
     "output_type": "stream",
     "text": [
      "Given string is palindrome\n"
     ]
    }
   ],
   "source": [
    "string = input(\"Enter a string:\")\n",
    "string_reverse = string[::-1]\n",
    "if string_reverse == string:\n",
    "    print(\"Given string is palindrome\")\n",
    "else:\n",
    "    print(\"Given string is not palindrome\")"
   ]
  },
  {
   "cell_type": "code",
   "execution_count": null,
   "id": "3aa486ae-bbf8-412b-838b-01b90d554b14",
   "metadata": {},
   "outputs": [],
   "source": [
    "#Question 5"
   ]
  },
  {
   "cell_type": "code",
   "execution_count": 21,
   "id": "3686c854-43ff-439f-ae42-6b4837d2e9ac",
   "metadata": {},
   "outputs": [
    {
     "name": "stdin",
     "output_type": "stream",
     "text": [
      "Enter a string      Hello,  Wor  ld\n"
     ]
    },
    {
     "name": "stdout",
     "output_type": "stream",
     "text": [
      "Old string =      Hello,  Wor  ld\n",
      "New string = Hello,World\n"
     ]
    }
   ],
   "source": [
    "string = input(\"Enter a string\")\n",
    "print(\"Old string =\",string)\n",
    "new_string = string.replace(\" \",\"\")\n",
    "print(\"New string =\",new_string)"
   ]
  },
  {
   "cell_type": "code",
   "execution_count": null,
   "id": "10971231-c10b-498c-9b06-d420626c2250",
   "metadata": {},
   "outputs": [],
   "source": []
  }
 ],
 "metadata": {
  "kernelspec": {
   "display_name": "Python 3 (ipykernel)",
   "language": "python",
   "name": "python3"
  },
  "language_info": {
   "codemirror_mode": {
    "name": "ipython",
    "version": 3
   },
   "file_extension": ".py",
   "mimetype": "text/x-python",
   "name": "python",
   "nbconvert_exporter": "python",
   "pygments_lexer": "ipython3",
   "version": "3.10.8"
  }
 },
 "nbformat": 4,
 "nbformat_minor": 5
}
